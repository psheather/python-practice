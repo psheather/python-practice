{
  "cells": [
    {
      "cell_type": "markdown",
      "metadata": {
        "id": "view-in-github",
        "colab_type": "text"
      },
      "source": [
        "<a href=\"https://colab.research.google.com/github/psheather/python-practice/blob/main/colab_intro.ipynb\" target=\"_parent\"><img src=\"https://colab.research.google.com/assets/colab-badge.svg\" alt=\"Open In Colab\"/></a>"
      ]
    },
    {
      "cell_type": "markdown",
      "metadata": {
        "id": "rFBoI5WhIP9Q"
      },
      "source": [
        "# Python Practice"
      ]
    },
    {
      "cell_type": "markdown",
      "metadata": {
        "id": "acFpL9jhSHNF"
      },
      "source": [
        "##텍스트 제목 추가"
      ]
    },
    {
      "cell_type": "code",
      "execution_count": null,
      "metadata": {
        "colab": {
          "base_uri": "https://localhost:8080/"
        },
        "id": "6bsPLPVBSLXz",
        "outputId": "23b7832c-40dd-4db0-f0e9-34bcb2196bf1"
      },
      "outputs": [
        {
          "name": "stdout",
          "output_type": "stream",
          "text": [
            "Hello, Python!\n"
          ]
        }
      ],
      "source": [
        "print(\"Hello, Python!\")"
      ]
    },
    {
      "cell_type": "markdown",
      "metadata": {
        "id": "CwcJ8r6XL3QW"
      },
      "source": [
        "## input 함수와 print 함수"
      ]
    },
    {
      "cell_type": "code",
      "execution_count": null,
      "metadata": {
        "colab": {
          "base_uri": "https://localhost:8080/"
        },
        "id": "2m9FbvUoINBg",
        "outputId": "308cfc9b-9d22-4c30-bfd8-5086d11b636a"
      },
      "outputs": [
        {
          "name": "stdout",
          "output_type": "stream",
          "text": [
            "안녕하세요? 오늘 기분은 어떤가요?헤헤헤\n",
            "헤헤헤\n",
            "오늘 기분이 헤헤헤라고 답했어요.\n"
          ]
        }
      ],
      "source": [
        "# input 함수와 print 함수\n",
        "\n",
        "example = input(\"안녕하세요? 오늘 기분은 어떤가요?\")\n",
        "# exmaple 출력\n",
        "\n",
        "print(example)\n",
        "# f-string을 사용한 출력\n",
        "# print(f\"하고싶은말{변수}하고싶은말\")\n",
        "print(f\"오늘 기분이 {example}라고 답했어요.\")\n",
        "\n"
      ]
    },
    {
      "cell_type": "markdown",
      "metadata": {
        "id": "scvQU6KpMAQq"
      },
      "source": [
        "## 문자열 자료형"
      ]
    },
    {
      "cell_type": "code",
      "execution_count": null,
      "metadata": {
        "colab": {
          "base_uri": "https://localhost:8080/"
        },
        "id": "YdhlDXoJKk3P",
        "outputId": "26653e00-5a2d-45ec-fd01-426d15c160e6"
      },
      "outputs": [
        {
          "name": "stdout",
          "output_type": "stream",
          "text": [
            "s\n",
            "sook\n"
          ]
        }
      ],
      "source": [
        "# sample code 작성하기\n",
        "str=\"sookmyung\"\n",
        "print(str[0])\n",
        "print(str[0:4])"
      ]
    },
    {
      "cell_type": "markdown",
      "metadata": {
        "id": "Srb_7e00MBCK"
      },
      "source": [
        "## 리스트 자료형"
      ]
    },
    {
      "cell_type": "code",
      "execution_count": null,
      "metadata": {
        "colab": {
          "base_uri": "https://localhost:8080/"
        },
        "id": "QysPX7v0MBhK",
        "outputId": "0c608328-e825-497f-c50f-f48f96ed3dec"
      },
      "outputs": [
        {
          "name": "stdout",
          "output_type": "stream",
          "text": [
            "hi\n",
            "[1, 2, 3]\n"
          ]
        }
      ],
      "source": [
        "# sample code 작성하기\n",
        "my_list = [1,2,3,'hi',4]\n",
        "print(my_list[3])\n",
        "print(my_list[0:3])"
      ]
    },
    {
      "cell_type": "markdown",
      "metadata": {
        "id": "RBzDKWlSMC3P"
      },
      "source": [
        "## 튜플 자료형"
      ]
    },
    {
      "cell_type": "code",
      "execution_count": null,
      "metadata": {
        "colab": {
          "base_uri": "https://localhost:8080/"
        },
        "id": "AalkYwrJMGJZ",
        "outputId": "7b959954-28ed-40c4-90c4-c066f299c8e4"
      },
      "outputs": [
        {
          "name": "stdout",
          "output_type": "stream",
          "text": [
            "b\n",
            "(2, 'a', 'b')\n"
          ]
        }
      ],
      "source": [
        "# sample code 작성하기\n",
        "my_tuple=(1,2,'a','b')\n",
        "print(my_tuple[3])\n",
        "print(my_tuple[1:])"
      ]
    },
    {
      "cell_type": "markdown",
      "metadata": {
        "id": "454XHQQ8MGso"
      },
      "source": [
        "## 딕셔너리 자료형"
      ]
    },
    {
      "cell_type": "code",
      "execution_count": null,
      "metadata": {
        "colab": {
          "base_uri": "https://localhost:8080/"
        },
        "id": "rmEeXjiNObBf",
        "outputId": "0ee5333f-79bc-4746-cf07-d64e461387c4"
      },
      "outputs": [
        {
          "name": "stdout",
          "output_type": "stream",
          "text": [
            "500\n",
            "7000\n"
          ]
        }
      ],
      "source": [
        "# sample code 작성하기\n",
        "my_dict = {'apple':500, 'banana':100, 'cat':7000, 'dog':7100}\n",
        "print(my_dict['apple'])\n",
        "print(my_dict['cat'])"
      ]
    },
    {
      "cell_type": "markdown",
      "metadata": {
        "id": "AqwAnU0WOggx"
      },
      "source": [
        "# 미션 1\n",
        "#### 이름과 태어난 연도를 입력받아 나이와 함께 인사하는 코드 작성하기\n",
        "\n",
        "* 사용자에게 총 2번의 입력을 받아 각각 서로 다른 변수에 저장해주세요. <br>\n",
        "이름 (name), 태어난 해 (born)\n",
        "\n",
        "* 이 변수 2개를 모두 활용해 나이(age)를 계산한 다음, 인사를 하는 프로그램을 작성해주세요. <br>\n",
        "(예) 재석님, 안녕하세요! 올해 51살이 되셨군요?"
      ]
    },
    {
      "cell_type": "code",
      "execution_count": null,
      "metadata": {
        "colab": {
          "base_uri": "https://localhost:8080/"
        },
        "id": "epyu09CtOsLn",
        "outputId": "c13b6662-770f-4d7a-b8ab-1d2abccca797"
      },
      "outputs": [
        {
          "name": "stdout",
          "output_type": "stream",
          "text": [
            "==================================================\n",
            "당신의 이름은?수현\n",
            "당신이 태어난 해는?1991\n",
            "==================================================\n",
            "수현님, 안녕하세요! 올해 32살이 되셨군요?\n"
          ]
        }
      ],
      "source": [
        "print(\"=\" * 50)\n",
        "\n",
        "# 각 값을 입력 받기\n",
        "#이 단계에서 int를 사용해도 됨\n",
        "name = input(\"당신의 이름은?\")\n",
        "born = input(\"당신이 태어난 해는?\")\n",
        "\n",
        "# 나이 계산하는 식 작성하기\n",
        "age = 2022-int(born)+1\n",
        "\n",
        "print(\"=\" * 50)\n",
        "\n",
        "# f-string을 사용해 출력하기\n",
        "print(f\"{name}님, 안녕하세요! 올해 {age}살이 되셨군요?\")"
      ]
    },
    {
      "cell_type": "markdown",
      "metadata": {
        "id": "HgoDRNvpThAL"
      },
      "source": [
        "## while문"
      ]
    },
    {
      "cell_type": "code",
      "execution_count": null,
      "metadata": {
        "colab": {
          "base_uri": "https://localhost:8080/"
        },
        "id": "TFPpx725OxTC",
        "outputId": "4c2a573c-8630-424a-9746-fb530d8b3618"
      },
      "outputs": [
        {
          "name": "stdout",
          "output_type": "stream",
          "text": [
            "Hello!\n",
            "Hello!\n",
            "Hello!\n",
            "Hello!\n",
            "Hello!\n"
          ]
        }
      ],
      "source": [
        "# 조건문이 참인 동안에 while 밑 문장을 실행한다\n",
        "# sample code 작성하기\n",
        "# 들여쓰기(indentation)로 구분\n",
        "num = 0\n",
        "while num < 5:\n",
        "  num = num + 1\n",
        "  print(\"Hello!\")"
      ]
    },
    {
      "cell_type": "markdown",
      "metadata": {
        "id": "doQkOs0aTlXB"
      },
      "source": [
        "## for문"
      ]
    },
    {
      "cell_type": "code",
      "execution_count": null,
      "metadata": {
        "colab": {
          "base_uri": "https://localhost:8080/"
        },
        "id": "_5nS-IyaTlKY",
        "outputId": "0a3fdb4e-5dd4-4b37-9166-2bb07cbe30e6"
      },
      "outputs": [
        {
          "name": "stdout",
          "output_type": "stream",
          "text": [
            "one\n",
            "two\n",
            "three\n",
            "Hello!\n",
            "Hello!\n",
            "Hello!\n",
            "Hello!\n",
            "Hello!\n",
            "Hello!\n",
            "Hello!\n",
            "Hello!\n",
            "Hello!\n",
            "Hello!\n",
            "0\n",
            "1\n",
            "2\n",
            "3\n",
            "4\n",
            "5\n",
            "6\n",
            "7\n",
            "8\n",
            "9\n"
          ]
        }
      ],
      "source": [
        "# sample code 작성하기\n",
        "\n",
        "numbers = ['one', 'two', 'three']\n",
        "for number in numbers :\n",
        "  print(number)\n",
        "\n",
        "for i in range(10):\n",
        "  print(\"Hello!\")\n",
        "\n",
        "for i in range(10):\n",
        "  print(i)"
      ]
    },
    {
      "cell_type": "markdown",
      "metadata": {
        "id": "u-2-BBE_Tpmw"
      },
      "source": [
        "## if문"
      ]
    },
    {
      "cell_type": "code",
      "execution_count": null,
      "metadata": {
        "colab": {
          "base_uri": "https://localhost:8080/"
        },
        "id": "15Gww_3OTpUA",
        "outputId": "d57d4fdb-aff0-4217-9177-5de9e873328d"
      },
      "outputs": [
        {
          "name": "stdout",
          "output_type": "stream",
          "text": [
            "PASSWORD:1234\n",
            "FAIL\n"
          ]
        }
      ],
      "source": [
        "# sample code 작성하기\n",
        "\n",
        "password = \"sookmyung123\"\n",
        "my_input = input(\"PASSWORD:\")\n",
        "if password == my_input:\n",
        "  print(\"LOGIN\")\n",
        "else :\n",
        "  print(\"FAIL\")"
      ]
    },
    {
      "cell_type": "code",
      "execution_count": null,
      "metadata": {
        "colab": {
          "base_uri": "https://localhost:8080/"
        },
        "id": "qa0NG6qFiUBa",
        "outputId": "e6e39c3e-e36c-416b-9d5a-5bc5585df4b1"
      },
      "outputs": [
        {
          "name": "stdout",
          "output_type": "stream",
          "text": [
            "나이40\n",
            "30대 이상입니다.\n"
          ]
        }
      ],
      "source": [
        "age1 = int(input(\"나이\"))\n",
        "\n",
        "if age1 < 20 :\n",
        "  print(\"20대 미만입니다.\")\n",
        "elif 20 <= age1 <= 23:\n",
        "  print(\"20대 초반입니다.\")\n",
        "elif 23 < age1 <= 26:\n",
        "  print(\"20대 중반입니다.\")\n",
        "elif 26 < age1 <= 29:\n",
        "  print(\"20대 후반입니다.\")\n",
        "else:\n",
        "  print(\"30대 이상입니다.\")"
      ]
    },
    {
      "cell_type": "markdown",
      "metadata": {
        "id": "2Yx_mmrpboIW"
      },
      "source": [
        "# 미션 2\n",
        "#### 몬스터 10마리를 잡으면 LEVEL UP!하는 프로그램 작성하기\n",
        "\n",
        "* 잡은 몬스터 수를 세는 변수에 초기값으로 0을 저장해주세요.\n",
        "* 반복문을 사용해서 몬스터를 잡을 때마다 1을 더해주세요.\n",
        "* 잡은 몬스터 수가 1마리 ~ 10마리일 때까지 현재 몬스터 수를 출력하고\n",
        "* 10마리가 되면 LEVEL UP!을 출력해주세요.\n"
      ]
    },
    {
      "cell_type": "code",
      "execution_count": null,
      "metadata": {
        "colab": {
          "base_uri": "https://localhost:8080/"
        },
        "id": "u6SIOQdEbon0",
        "outputId": "6af93a2e-0bbe-4f7a-94d3-26f2e572258c"
      },
      "outputs": [
        {
          "name": "stdout",
          "output_type": "stream",
          "text": [
            "몬스터를 더 잡아야 합니다.\n",
            "현재 몬스터 수 : 1\n",
            "몬스터를 더 잡아야 합니다.\n",
            "현재 몬스터 수 : 2\n",
            "몬스터를 더 잡아야 합니다.\n",
            "현재 몬스터 수 : 3\n",
            "몬스터를 더 잡아야 합니다.\n",
            "현재 몬스터 수 : 4\n",
            "몬스터를 더 잡아야 합니다.\n",
            "현재 몬스터 수 : 5\n",
            "몬스터를 더 잡아야 합니다.\n",
            "현재 몬스터 수 : 6\n",
            "몬스터를 더 잡아야 합니다.\n",
            "현재 몬스터 수 : 7\n",
            "몬스터를 더 잡아야 합니다.\n",
            "현재 몬스터 수 : 8\n",
            "몬스터를 더 잡아야 합니다.\n",
            "현재 몬스터 수 : 9\n",
            "몬스터를 더 잡아야 합니다.\n",
            "현재 몬스터 수 : 10\n",
            "LEVEL UP!\n"
          ]
        }
      ],
      "source": [
        "kill_count = 0\n",
        "\n",
        "# 10번 반복하기\n",
        "\n",
        "while kill_count < 10 :\n",
        "  kill_count = kill_count+1\n",
        "  print(\"몬스터를 더 잡아야 합니다.\")\n",
        "  print(f\"현재 몬스터 수 : {kill_count}\")\n",
        "print(\"LEVEL UP!\")\n",
        "  \n",
        "# 반복문 안에서는 kill_count에 1을 더하고 현재 몬스터 수를 출력한다.\n"
      ]
    },
    {
      "cell_type": "code",
      "execution_count": null,
      "metadata": {
        "colab": {
          "background_save": true,
          "base_uri": "https://localhost:8080/"
        },
        "id": "kTs64WUdvWlW",
        "outputId": "ad7c6fff-e7a0-4b23-c399-587fd26f86df"
      },
      "outputs": [
        {
          "name": "stdout",
          "output_type": "stream",
          "text": [
            "몬스터를 더 잡아야 합니다.\n"
          ]
        }
      ],
      "source": [
        "kill_count = 0\n",
        "\n",
        "while kill_count < 10 :\n",
        "  print(\"몬스터를 더 잡아야 합니다.\")\n",
        "  kc = input(\"몬스터를 잡으시겠습니까? Y/N\")\n",
        "  if kc == \"Y\" :\n",
        "    kill_count = kill_count+1\n",
        "    print(f\"현재 몬스터 수 : {kill_count}\")\n",
        "  elif kc == \"N\" :\n",
        "    kill_count = kill_count-1\n",
        "    print(f\"현재 몬스터 수 : {kill_count}\")\n",
        "  else :\n",
        "    print(\"잘못된 입력입니다.\")\n",
        "    continue\n",
        "print(\"LEVEL UP!\")"
      ]
    },
    {
      "cell_type": "code",
      "execution_count": null,
      "metadata": {
        "colab": {
          "base_uri": "https://localhost:8080/"
        },
        "id": "9NX2AmWZs0Y5",
        "outputId": "cedfa8ba-b31e-4b3e-abb6-6d886143edbe"
      },
      "outputs": [
        {
          "name": "stdout",
          "output_type": "stream",
          "text": [
            "몬스터를 더 잡아야 합니다.\n",
            "현재 몬스터 수 : 1\n",
            "몬스터를 더 잡아야 합니다.\n",
            "현재 몬스터 수 : 2\n",
            "몬스터를 더 잡아야 합니다.\n",
            "현재 몬스터 수 : 3\n",
            "몬스터를 더 잡아야 합니다.\n",
            "현재 몬스터 수 : 4\n",
            "몬스터를 더 잡아야 합니다.\n",
            "현재 몬스터 수 : 5\n",
            "몬스터를 더 잡아야 합니다.\n",
            "현재 몬스터 수 : 6\n",
            "몬스터를 더 잡아야 합니다.\n",
            "현재 몬스터 수 : 7\n",
            "몬스터를 더 잡아야 합니다.\n",
            "현재 몬스터 수 : 8\n",
            "몬스터를 더 잡아야 합니다.\n",
            "현재 몬스터 수 : 9\n",
            "몬스터를 더 잡아야 합니다.\n",
            "현재 몬스터 수 : 10\n",
            "LEVEL UP!\n"
          ]
        }
      ],
      "source": [
        "for kill_count in range(10):\n",
        "  kill_count = kill_count+1\n",
        "  print(\"몬스터를 더 잡아야 합니다.\")\n",
        "  print(f\"현재 몬스터 수 : {kill_count}\")\n",
        "print(\"LEVEL UP!\")"
      ]
    },
    {
      "cell_type": "markdown",
      "metadata": {
        "id": "17AqYKjngEo3"
      },
      "source": [
        "# 미션 3\n",
        "#### 카페 주문 프로그램 작성하기 (토요일 오전 미션)\n",
        "\n",
        "* 1번 메뉴는 아메리카노(4100원), 2번 메뉴는 카페라떼(4600원), 3번 메뉴는 바닐라라떼(5100원)입니다.\n",
        "* 주문하실 메뉴 번호(order)를 입력합니다.\n",
        "* 조건문을 이용해서 메뉴 번호(order)에 맞는 금액(price)이 계산되도록 식을 만들어주세요. (1을 입력하면 4100원, 2를 입력하면 4600원, 3을 입력하면 5100원)\n",
        "* 총 금액(total_price)을 구하는 식을 만들어주세요.\n",
        "* 투입한 금액(money)이 총 금액보다 크면 거스름돈(change)을 계산하고, 부족하면 주문을 취소합니다.\n",
        "* 메뉴 번호 4를 입력하면 주문이 취소되면서 반복문을 빠져나옵니다.\n",
        "\n"
      ]
    },
    {
      "cell_type": "code",
      "execution_count": null,
      "metadata": {
        "id": "wRrKf3NJg_yy",
        "colab": {
          "base_uri": "https://localhost:8080/"
        },
        "outputId": "fb664f16-d66f-4895-f2c4-4ff18a960cc6"
      },
      "outputs": [
        {
          "output_type": "stream",
          "name": "stdout",
          "text": [
            "=============================================\n",
            " 1. 아메리카노 : 4100원 \n",
            " 2. 카페라떼 : 4600원 \n",
            " 3. 바닐라라떼 : 5100원 \n",
            " 4. 주문 종료\n",
            "=============================================\n"
          ]
        }
      ],
      "source": [
        "while True :\n",
        "  print(\"=\" * 45)\n",
        "  menu = \" 1. 아메리카노 : 4100원 \\n 2. 카페라떼 : 4600원 \\n 3. 바닐라라떼 : 5100원 \\n 4. 주문 종료\"\n",
        "  print(menu)\n",
        "  print(\"=\" * 45)\n",
        "\n",
        "  # 커피 종류를 입력받습니다. \n",
        "  order = input(\"메뉴 번호를 입력해 주세요.\")\n",
        "  if order in [\"1\", \"2\", \"3\"] :\n",
        "    # 입력한 커피 가격을 price 변수에 넣어줍니다. \n",
        "    price = {\"1\":4100, \"2\":4600, \"3\":5100}\n",
        "    cups = int(input(\"몇 잔을 드릴까요? 잔 수 입력 >>> \"))\n",
        "    total_price = price[order] * cups\n",
        "    # 총 금액을 계산하고 total_price 변수에 넣어줍니다.\n",
        "    money = int(input(f\"총 금액은 {total_price}원 입니다. 돈을 투입해주세요 >>> \"))\n",
        "\n",
        "    # 총 금액보다 투입 금액이 큰 경우 거스름돈을 계산하고 출력합니다.\n",
        "    if money >= total_price:\n",
        "      change_price = money - total_price\n",
        "      print(f\"거스름돈은 {change_price}원 입니다.\")\n",
        "\n",
        "    # 총 금액보다 작은 금액을 입력한 경우 주문을 취소합니다.\n",
        "    else :\n",
        "      print(\"금액이 부족합니다. 주문이 취소되었습니다.\")\n",
        "\n",
        "  elif order == \"4\" :\n",
        "    # 4를 입력하면 주문을 종료하고 반복문을 빠져나갑니다.\n",
        "    print(\"주문을 종료합니다.\")\n",
        "    # 반복문 빠져나가기\n",
        "    break\n",
        "\n",
        "  # 1,2,3,4가 아닌 다른 숫자를 입력한 경우 \"잘못된 주문입니다\"를 출력합니다.\n",
        "  else :\n",
        "      print(\"잘못된 주문입니다.\")"
      ]
    },
    {
      "cell_type": "code",
      "source": [
        "while True :\n",
        "  print(\"=\" * 45)\n",
        "  menu = \" 1. 아메리카노 : 4100원 \\n 2. 카페라떼 : 4600원 \\n 3. 바닐라라떼 : 5100원 \\n 4. 주문 종료\"\n",
        "  print(menu)\n",
        "  print(\"=\" * 45)\n",
        "\n",
        "  # 커피 종류를 입력받습니다. \n",
        "  order = input(\"원하는 메뉴 이름을 입력해 주세요.\")\n",
        "  if order in [\"아메리카노\", \"카페라떼\", \"바닐라라떼\"] :\n",
        "    # 입력한 커피 가격을 price 변수에 넣어줍니다. \n",
        "    price = {\"아메리카노\":4100, \"카페라떼\":4600, \"바닐라라떼\":5100}\n",
        "    cups = int(input(\"몇 잔을 드릴까요? 잔 수 입력 >>> \"))\n",
        "    total_price = price[order] * cups\n",
        "    # 총 금액을 계산하고 total_price 변수에 넣어줍니다.\n",
        "    money = int(input(f\"총 금액은 {total_price}원 입니다. 돈을 투입해주세요 >>> \"))\n",
        "\n",
        "    # 총 금액보다 투입 금액이 큰 경우 거스름돈을 계산하고 출력합니다.\n",
        "    if money >= total_price:\n",
        "      change_price = money - total_price\n",
        "      change_1000 = change_price // 1000\n",
        "      remain_1000 = change_price % 1000\n",
        "      change_500 = remain_1000 // 500\n",
        "      remain_500 = remain_1000 % 500\n",
        "      change_100 = remain_500 // 100\n",
        "      print(f\"거스름돈은 {change_price}원, 1000원짜리 {change_1000}개, 500원짜리 {change_500}개, 100원짜리 {change_100}개 입니다.\")\n",
        "\n",
        "    # 총 금액보다 작은 금액을 입력한 경우 주문을 취소합니다.\n",
        "    else :\n",
        "      print(\"금액이 부족합니다. 주문이 취소되었습니다.\")\n",
        "\n",
        "  elif order == \"주문 종료\" :\n",
        "    # 4를 입력하면 주문을 종료하고 반복문을 빠져나갑니다.\n",
        "    print(\"주문을 종료합니다.\")\n",
        "    # 반복문 빠져나가기\n",
        "    break\n",
        "\n",
        "  # 1,2,3,4가 아닌 다른 숫자를 입력한 경우 \"잘못된 주문입니다\"를 출력합니다.\n",
        "  else :\n",
        "      print(\"잘못된 주문입니다.\")"
      ],
      "metadata": {
        "id": "b-YpB8MvmyBK",
        "colab": {
          "base_uri": "https://localhost:8080/"
        },
        "outputId": "73e23fbc-62b7-4249-bb69-0aab35658856"
      },
      "execution_count": 7,
      "outputs": [
        {
          "output_type": "stream",
          "name": "stdout",
          "text": [
            "=============================================\n",
            " 1. 아메리카노 : 4100원 \n",
            " 2. 카페라떼 : 4600원 \n",
            " 3. 바닐라라떼 : 5100원 \n",
            " 4. 주문 종료\n",
            "=============================================\n",
            "원하는 메뉴 이름을 입력해 주세요.주문 종료\n",
            "주문을 종료합니다.\n"
          ]
        }
      ]
    }
  ],
  "metadata": {
    "colab": {
      "collapsed_sections": [],
      "name": "colab_intro.ipynb",
      "provenance": [],
      "include_colab_link": true
    },
    "kernelspec": {
      "display_name": "Python 3",
      "name": "python3"
    },
    "language_info": {
      "name": "python"
    }
  },
  "nbformat": 4,
  "nbformat_minor": 0
}